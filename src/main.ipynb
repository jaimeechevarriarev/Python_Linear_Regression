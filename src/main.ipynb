{
 "cells": [
  {
   "cell_type": "markdown",
   "metadata": {},
   "source": [
    "# Data Analysis on Sales by Advertising Platform"
   ]
  },
  {
   "cell_type": "markdown",
   "metadata": {},
   "source": [
    "We are given a table with the money spent on an advertising platform and the sales generated. Marketing is looking to see the relationship between TV advertising and sales, and seee if we can build a model to predict the amount of sales for a given amount spent in TV advertising."
   ]
  },
  {
   "cell_type": "code",
   "execution_count": null,
   "metadata": {},
   "outputs": [],
   "source": [
    "import pandas as pd \n",
    "import numpy as np \n",
    "import matplotlib.pyplot as plt"
   ]
  },
  {
   "cell_type": "markdown",
   "metadata": {},
   "source": [
    "## Import file"
   ]
  },
  {
   "cell_type": "code",
   "execution_count": null,
   "metadata": {},
   "outputs": [],
   "source": [
    "file_path = r'../resources/data/advertising.csv'"
   ]
  },
  {
   "cell_type": "code",
   "execution_count": null,
   "metadata": {},
   "outputs": [],
   "source": [
    "df = pd.read_csv(file_path)\n",
    "df.head()"
   ]
  },
  {
   "cell_type": "markdown",
   "metadata": {},
   "source": [
    "## Inspect data source"
   ]
  },
  {
   "cell_type": "code",
   "execution_count": null,
   "metadata": {},
   "outputs": [],
   "source": [
    "df.shape"
   ]
  },
  {
   "cell_type": "code",
   "execution_count": null,
   "metadata": {},
   "outputs": [],
   "source": [
    "df.dtypes"
   ]
  },
  {
   "cell_type": "code",
   "execution_count": null,
   "metadata": {},
   "outputs": [],
   "source": [
    "df.describe()"
   ]
  },
  {
   "cell_type": "markdown",
   "metadata": {},
   "source": [
    "## Data cleanup"
   ]
  },
  {
   "cell_type": "code",
   "execution_count": null,
   "metadata": {},
   "outputs": [],
   "source": [
    "# drop null values\n",
    "df = df.dropna()"
   ]
  },
  {
   "cell_type": "code",
   "execution_count": null,
   "metadata": {},
   "outputs": [],
   "source": [
    "# check for outliers\n",
    "labels = df.columns[0:3]\n",
    "plt.boxplot(df[labels], labels=labels)\n",
    "plt.show()"
   ]
  },
  {
   "cell_type": "markdown",
   "metadata": {},
   "source": [
    "## Data Analysis"
   ]
  },
  {
   "cell_type": "code",
   "execution_count": null,
   "metadata": {},
   "outputs": [],
   "source": [
    "# Review target variable we are trying to predict\n",
    "plt.boxplot(df['Sales'], labels=['Sales'])\n",
    "plt.show()"
   ]
  },
  {
   "cell_type": "code",
   "execution_count": null,
   "metadata": {},
   "outputs": [],
   "source": [
    "plt.figure(figsize=(15,5))\n",
    "\n",
    "# Create scatter plots\n",
    "for idx, label in enumerate(labels):\n",
    "\n",
    "    plt.subplot(1, 3, idx + 1)\n",
    "    plt.scatter(df[label], df['Sales'])\n",
    "\n",
    "    # Label plots\n",
    "    plt.title(label)\n",
    "    plt.xlabel(f'{label} Advertising Spent')\n",
    "    plt.ylabel('Sales')\n",
    "\n",
    "plt.show()"
   ]
  },
  {
   "cell_type": "code",
   "execution_count": null,
   "metadata": {},
   "outputs": [],
   "source": [
    "# Create dataframe for correlation heatmap\n",
    "corr = df.corr()\n",
    "\n",
    "# Zero out values where the labels are the same, the value would be 1.00 which means that x and y values are the same\n",
    "for col in list(corr.columns):\n",
    "    corr.loc[corr[col] == 1.00, col] = 0.00\n",
    "\n",
    "corr"
   ]
  },
  {
   "cell_type": "code",
   "execution_count": null,
   "metadata": {},
   "outputs": [],
   "source": [
    "# Build heatmap\n",
    "plt.xticks(np.arange(len(list(df.columns))), labels=list(df.columns))\n",
    "plt.yticks(np.arange(len(list(df.columns))), labels=list(df.columns))\n",
    "\n",
    "plt.imshow(corr, cmap='YlGn')\n",
    "plt.show()"
   ]
  },
  {
   "cell_type": "markdown",
   "metadata": {},
   "source": [
    "## Regression Model"
   ]
  },
  {
   "cell_type": "markdown",
   "metadata": {},
   "source": [
    "Our goal is to create a regression line that follows the slope-intercept form $y = mx + b$. The variable $x$ represents amount spent in TV advertising; $y$ represents the predicted Sales for a given $x$ value. $m$ is the slope of the line and $b$ is the y-intercept of the line.\n",
    "\n",
    "One useful value that can be calculated from this model is the coefficient of determination or $R^2$. This value represents the proportion of variation in the data set that is predictable. The closer $R^2$ is to 1.00, the better the observed data lines up with the model."
   ]
  },
  {
   "cell_type": "code",
   "execution_count": null,
   "metadata": {},
   "outputs": [],
   "source": [
    "# Split data into training and testing models, we'll do a 80/20 split\n",
    "from sklearn.model_selection import train_test_split\n",
    "\n",
    "# Convert dataframe data to numpy 2D arrays\n",
    "x = np.array(df['TV']).reshape(-1, 1)\n",
    "y = np.array(df['Sales']).reshape(-1, 1)\n",
    "\n",
    "# Split data\n",
    "x_train, x_test, y_train, y_test = train_test_split(x, y, train_size=0.8, test_size=0.2, random_state=100)"
   ]
  },
  {
   "cell_type": "code",
   "execution_count": null,
   "metadata": {},
   "outputs": [],
   "source": [
    "# Build linear regression model\n",
    "from sklearn.linear_model import LinearRegression\n",
    "\n",
    "model = LinearRegression().fit(x_train, y_train)"
   ]
  },
  {
   "cell_type": "code",
   "execution_count": null,
   "metadata": {},
   "outputs": [],
   "source": [
    "# Store values in variables, these will be used later\n",
    "rsquared = model.score(x_test, y_test)\n",
    "yint = model.intercept_.tolist()[0]\n",
    "slope = model.coef_.tolist()[0][0]\n",
    "\n",
    "print(f'R2: {rsquared}\\nm : {slope}\\nb : {yint}')"
   ]
  },
  {
   "cell_type": "markdown",
   "metadata": {},
   "source": [
    "We have a high value for $R^2$ therefore we can conclude that this model accurately predicts results."
   ]
  },
  {
   "cell_type": "markdown",
   "metadata": {},
   "source": [
    "## Predicting Values"
   ]
  },
  {
   "cell_type": "code",
   "execution_count": null,
   "metadata": {},
   "outputs": [],
   "source": [
    "# Get user input and print out results\n",
    "user_input = float(input('Enter TV advertising spend amount: '))\n",
    "\n",
    "x_value = np.array(user_input).reshape(-1, 1)\n",
    "\n",
    "y_value = model.predict(x_value).tolist()[0][0]\n",
    "\n",
    "print(f'Predicted Sales for {user_input}: {round(y_value, 2)}')"
   ]
  },
  {
   "cell_type": "markdown",
   "metadata": {},
   "source": [
    "## Plotting the Model"
   ]
  },
  {
   "cell_type": "code",
   "execution_count": null,
   "metadata": {},
   "outputs": [],
   "source": [
    "# Build plot with y=mx+b line and add scatter plot with observed data\n",
    "plt.title('Plot of TV Advertising by Sales with Regression Line')\n",
    "plt.xlabel('TV Advertising Spent')\n",
    "plt.ylabel('Sales')\n",
    "plt.plot(x_train, (slope * x_train) + yint, 'r', label=f'$y=${round(slope, 4)}x + {round(yint, 4)}\\n$R^2 = {round(rsquared, 4)}$')\n",
    "plt.scatter(x_train, y_train)\n",
    "plt.legend()\n",
    "plt.show()"
   ]
  },
  {
   "cell_type": "code",
   "execution_count": null,
   "metadata": {},
   "outputs": [],
   "source": []
  }
 ],
 "metadata": {
  "kernelspec": {
   "display_name": "base",
   "language": "python",
   "name": "python3"
  },
  "language_info": {
   "codemirror_mode": {
    "name": "ipython",
    "version": 3
   },
   "file_extension": ".py",
   "mimetype": "text/x-python",
   "name": "python",
   "nbconvert_exporter": "python",
   "pygments_lexer": "ipython3",
   "version": "3.11.3"
  }
 },
 "nbformat": 4,
 "nbformat_minor": 2
}
